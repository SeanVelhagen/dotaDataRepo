{
 "cells": [
  {
   "cell_type": "code",
   "execution_count": null,
   "metadata": {},
   "outputs": [],
   "source": [
    "from selenium import webdriver\n",
    "import csv\n",
    "import time\n",
    "import math\n",
    "import threading"
   ]
  },
  {
   "cell_type": "code",
   "execution_count": null,
   "metadata": {},
   "outputs": [],
   "source": [
    "def get_dota_data(string_t, t):\n",
    "    driver = webdriver.Firefox(executable_path='./geckodriver')\n",
    "    driver.get('https://www.gosugamers.net/dota2/hero-stats')\n",
    "    driver.execute_script('window.scrollTo(0, 0)')\n",
    "    time.sleep(1)\n",
    "    driver.find_element_by_class_name('btn-accept').click()\n",
    "    \n",
    "    if t == 1:\n",
    "        patches_to_scrape = range(4, 11)\n",
    "        csv_file = open('dota_data_1.csv', 'a')\n",
    "    elif t == 2:\n",
    "        patches_to_scrape = range(11, 18)\n",
    "        csv_file = open('dota_data_2.csv', 'a')\n",
    "    elif t == 3:\n",
    "        patches_to_scrape = range(18, 25)\n",
    "        csv_file = open('dota_data_3.csv', 'a')\n",
    "    elif t == 4:\n",
    "        patches_to_scrape = range(25, 32)\n",
    "        csv_file = open('dota_data_4.csv', 'a')\n",
    "    \n",
    "    print('Thread ' + string_t + ', processing...')\n",
    "        \n",
    "    writer = csv.writer(csv_file)\n",
    "    \n",
    "    for i in patches_to_scrape:\n",
    "        driver.execute_script('window.scrollTo(0, 0)')\n",
    "        time.sleep(1)\n",
    "        driver.find_element_by_css_selector('.using-filter').click()\n",
    "        driver.execute_script('window.scrollTo(0, 0)')\n",
    "        time.sleep(1)\n",
    "        driver.find_element_by_xpath('//label[@for=\"ui-multiselect-timePeriod1-option-' + str(i) + '\"]').click()\n",
    "        \n",
    "        for j in range(1, 7):\n",
    "            cur_patch = driver.find_element_by_xpath\\\n",
    "            ('/html/body/div[3]/div[2]/div[1]/div/div[2]/div[1]/form/div/div/label[1]/button/span[2]')\n",
    "            driver.execute_script('window.scrollTo(0, 0)')\n",
    "            time.sleep(1)\n",
    "            driver.find_element_by_xpath('//button[@data-statnum=\"'+ str(j) +'\"]/span[@class=\"show\"]').click()\n",
    "            elems = driver.find_elements_by_xpath('//div[@id=\"stats-1-'+ str(j) +'\"]/table/tbody/tr')\n",
    "            table_name = driver.find_element_by_xpath('//div[@id=\"stats-1-' + str(j) + '\"]/table/caption')\n",
    "\n",
    "            for k in range(len(elems)):\n",
    "                try:\n",
    "                    rank = driver.find_element_by_xpath\\\n",
    "                    ('//div[@id=\"stats-1-' + str(j) + '\"]/table/tbody/tr['+ str(k+1) +']/td[@class=\"num\"]')\n",
    "                    percent = driver.find_element_by_xpath\\\n",
    "                    ('//div[@id=\"stats-1-' + str(j) + '\"]/table/tbody/tr['+ str(k+1) +']/td[@class=\"bar-label\"]/span')\n",
    "                    name = driver.find_element_by_xpath\\\n",
    "                    ('//div[@id=\"stats-1-' + str(j) + '\"]/table/tbody/tr['\\\n",
    "                     + str(k+1) +']/td[@class=\"bars\"]/div/span[@class=\"name\"]')\n",
    "                    driver.execute_script('window.scrollTo(0, 0)')\n",
    "                    writer.writerow([cur_patch.text, table_name.text, rank.text, percent.text[-3:-1], name.text])\n",
    "                except:\n",
    "                    pass\n",
    "\n",
    "            driver.execute_script('window.scrollTo(0, 0)')\n",
    "            time.sleep(1)\n",
    "            driver.find_element_by_xpath('//button[@data-statnum=\"' + str(j) + '\"]/span[@class=\"hide\"]').click()\n",
    "\n",
    "    csv_file.close()\n",
    "    driver.close()\n",
    "    \n",
    "    print('Thread ' + string_t + ' done! (get_dota_data)')"
   ]
  },
  {
   "cell_type": "code",
   "execution_count": null,
   "metadata": {},
   "outputs": [],
   "source": [
    "t1 = threading.Thread(target = get_dota_data, name = 'thread1', args = ('1', 1))\n",
    "t2 = threading.Thread(target = get_dota_data, name = 'thread2', args = ('2', 2))\n",
    "t3 = threading.Thread(target = get_dota_data, name = 'thread3', args = ('3', 3))\n",
    "t4 = threading.Thread(target = get_dota_data, name = 'thread4', args = ('4', 4))"
   ]
  },
  {
   "cell_type": "code",
   "execution_count": null,
   "metadata": {},
   "outputs": [],
   "source": [
    "t1.start()\n",
    "t2.start()\n",
    "t3.start()\n",
    "t4.start()"
   ]
  },
  {
   "cell_type": "code",
   "execution_count": null,
   "metadata": {},
   "outputs": [],
   "source": []
  }
 ],
 "metadata": {
  "kernelspec": {
   "display_name": "Python 3",
   "language": "python",
   "name": "python3"
  },
  "language_info": {
   "codemirror_mode": {
    "name": "ipython",
    "version": 3
   },
   "file_extension": ".py",
   "mimetype": "text/x-python",
   "name": "python",
   "nbconvert_exporter": "python",
   "pygments_lexer": "ipython3",
   "version": "3.7.3"
  }
 },
 "nbformat": 4,
 "nbformat_minor": 2
}
